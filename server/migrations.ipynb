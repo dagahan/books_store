{
 "cells": [
  {
   "cell_type": "code",
   "execution_count": 3,
   "id": "056776da",
   "metadata": {},
   "outputs": [],
   "source": [
    "%load_ext autoreload\n",
    "%autoreload 2"
   ]
  },
  {
   "cell_type": "code",
   "execution_count": null,
   "id": "ae032fba",
   "metadata": {},
   "outputs": [
    {
     "name": "stdout",
     "output_type": "stream",
     "text": [
      "/home/usov/myprojects/books_store/server/.venv/bin/python3\n"
     ]
    }
   ],
   "source": [
    "from loguru import logger\n",
    "from sqlalchemy import (\n",
    "    select,\n",
    ")\n",
    "\n",
    "from src.services.db.database import DataBase\n",
    "from src.services.db.models import *\n",
    "from src.services.db.shemas import *"
   ]
  },
  {
   "cell_type": "code",
   "execution_count": null,
   "id": "8a78a5f0",
   "metadata": {},
   "outputs": [
    {
     "name": "stderr",
     "output_type": "stream",
     "text": [
      "\u001b[32m2025-08-01 01:15:02.111\u001b[0m | \u001b[1mINFO    \u001b[0m | \u001b[36msrc.services.db.database\u001b[0m:\u001b[36minit_alchemy_engine\u001b[0m:\u001b[36m32\u001b[0m - \u001b[1mStarting service..\u001b[0m\n",
      "\u001b[32m2025-08-01 01:15:02.140\u001b[0m | \u001b[1mINFO    \u001b[0m | \u001b[36msrc.services.db.database\u001b[0m:\u001b[36minit_alchemy_engine\u001b[0m:\u001b[36m51\u001b[0m - \u001b[1m\u001b[32mConnection with data base has been established!\u001b[0m\n"
     ]
    },
    {
     "ename": "ArgumentError",
     "evalue": "Executable SQL or text() construct expected, got ().",
     "output_type": "error",
     "traceback": [
      "\u001b[31m---------------------------------------------------------------------------\u001b[39m",
      "\u001b[31mArgumentError\u001b[39m                             Traceback (most recent call last)",
      "\u001b[36mCell\u001b[39m\u001b[36m \u001b[39m\u001b[32mIn[3]\u001b[39m\u001b[32m, line 10\u001b[39m\n\u001b[32m      4\u001b[39m \u001b[38;5;28;01masync\u001b[39;00m \u001b[38;5;28;01mwith\u001b[39;00m data_base.async_session() \u001b[38;5;28;01mas\u001b[39;00m session:\n\u001b[32m      5\u001b[39m     query = (\n\u001b[32m      6\u001b[39m \n\u001b[32m      7\u001b[39m         )\n\u001b[32m---> \u001b[39m\u001b[32m10\u001b[39m     result = \u001b[38;5;28;01mawait\u001b[39;00m session.execute(query)\n\u001b[32m     11\u001b[39m     row_items = result.scalars().all()\n\u001b[32m     12\u001b[39m     items_dto = [PurchaseDTO.model_validate(row, from_attributes=\u001b[38;5;28;01mTrue\u001b[39;00m) \u001b[38;5;28;01mfor\u001b[39;00m row \u001b[38;5;129;01min\u001b[39;00m row_items]\n",
      "\u001b[36mFile \u001b[39m\u001b[32m~/myprojects/books_store/server/.venv/lib/python3.13/site-packages/sqlalchemy/ext/asyncio/session.py:463\u001b[39m, in \u001b[36mAsyncSession.execute\u001b[39m\u001b[34m(self, statement, params, execution_options, bind_arguments, **kw)\u001b[39m\n\u001b[32m    460\u001b[39m \u001b[38;5;28;01melse\u001b[39;00m:\n\u001b[32m    461\u001b[39m     execution_options = _EXECUTE_OPTIONS\n\u001b[32m--> \u001b[39m\u001b[32m463\u001b[39m result = \u001b[38;5;28;01mawait\u001b[39;00m greenlet_spawn(\n\u001b[32m    464\u001b[39m     \u001b[38;5;28mself\u001b[39m.sync_session.execute,\n\u001b[32m    465\u001b[39m     statement,\n\u001b[32m    466\u001b[39m     params=params,\n\u001b[32m    467\u001b[39m     execution_options=execution_options,\n\u001b[32m    468\u001b[39m     bind_arguments=bind_arguments,\n\u001b[32m    469\u001b[39m     **kw,\n\u001b[32m    470\u001b[39m )\n\u001b[32m    471\u001b[39m \u001b[38;5;28;01mreturn\u001b[39;00m \u001b[38;5;28;01mawait\u001b[39;00m _ensure_sync_result(result, \u001b[38;5;28mself\u001b[39m.execute)\n",
      "\u001b[36mFile \u001b[39m\u001b[32m~/myprojects/books_store/server/.venv/lib/python3.13/site-packages/sqlalchemy/util/_concurrency_py3k.py:190\u001b[39m, in \u001b[36mgreenlet_spawn\u001b[39m\u001b[34m(fn, _require_await, *args, **kwargs)\u001b[39m\n\u001b[32m    185\u001b[39m \u001b[38;5;66;03m# runs the function synchronously in gl greenlet. If the execution\u001b[39;00m\n\u001b[32m    186\u001b[39m \u001b[38;5;66;03m# is interrupted by await_only, context is not dead and result is a\u001b[39;00m\n\u001b[32m    187\u001b[39m \u001b[38;5;66;03m# coroutine to wait. If the context is dead the function has\u001b[39;00m\n\u001b[32m    188\u001b[39m \u001b[38;5;66;03m# returned, and its result can be returned.\u001b[39;00m\n\u001b[32m    189\u001b[39m switch_occurred = \u001b[38;5;28;01mFalse\u001b[39;00m\n\u001b[32m--> \u001b[39m\u001b[32m190\u001b[39m result = \u001b[43mcontext\u001b[49m\u001b[43m.\u001b[49m\u001b[43mswitch\u001b[49m\u001b[43m(\u001b[49m\u001b[43m*\u001b[49m\u001b[43margs\u001b[49m\u001b[43m,\u001b[49m\u001b[43m \u001b[49m\u001b[43m*\u001b[49m\u001b[43m*\u001b[49m\u001b[43mkwargs\u001b[49m\u001b[43m)\u001b[49m\n\u001b[32m    191\u001b[39m \u001b[38;5;28;01mwhile\u001b[39;00m \u001b[38;5;129;01mnot\u001b[39;00m context.dead:\n\u001b[32m    192\u001b[39m     switch_occurred = \u001b[38;5;28;01mTrue\u001b[39;00m\n",
      "\u001b[36mFile \u001b[39m\u001b[32m~/myprojects/books_store/server/.venv/lib/python3.13/site-packages/sqlalchemy/orm/session.py:2365\u001b[39m, in \u001b[36mSession.execute\u001b[39m\u001b[34m(self, statement, params, execution_options, bind_arguments, _parent_execute_state, _add_event)\u001b[39m\n\u001b[32m   2305\u001b[39m \u001b[38;5;28;01mdef\u001b[39;00m\u001b[38;5;250m \u001b[39m\u001b[34mexecute\u001b[39m(\n\u001b[32m   2306\u001b[39m     \u001b[38;5;28mself\u001b[39m,\n\u001b[32m   2307\u001b[39m     statement: Executable,\n\u001b[32m   (...)\u001b[39m\u001b[32m   2313\u001b[39m     _add_event: Optional[Any] = \u001b[38;5;28;01mNone\u001b[39;00m,\n\u001b[32m   2314\u001b[39m ) -> Result[Any]:\n\u001b[32m   2315\u001b[39m \u001b[38;5;250m    \u001b[39m\u001b[33mr\u001b[39m\u001b[33;03m\"\"\"Execute a SQL expression construct.\u001b[39;00m\n\u001b[32m   2316\u001b[39m \n\u001b[32m   2317\u001b[39m \u001b[33;03m    Returns a :class:`_engine.Result` object representing\u001b[39;00m\n\u001b[32m   (...)\u001b[39m\u001b[32m   2363\u001b[39m \n\u001b[32m   2364\u001b[39m \u001b[33;03m    \"\"\"\u001b[39;00m\n\u001b[32m-> \u001b[39m\u001b[32m2365\u001b[39m     \u001b[38;5;28;01mreturn\u001b[39;00m \u001b[38;5;28;43mself\u001b[39;49m\u001b[43m.\u001b[49m\u001b[43m_execute_internal\u001b[49m\u001b[43m(\u001b[49m\n\u001b[32m   2366\u001b[39m \u001b[43m        \u001b[49m\u001b[43mstatement\u001b[49m\u001b[43m,\u001b[49m\n\u001b[32m   2367\u001b[39m \u001b[43m        \u001b[49m\u001b[43mparams\u001b[49m\u001b[43m,\u001b[49m\n\u001b[32m   2368\u001b[39m \u001b[43m        \u001b[49m\u001b[43mexecution_options\u001b[49m\u001b[43m=\u001b[49m\u001b[43mexecution_options\u001b[49m\u001b[43m,\u001b[49m\n\u001b[32m   2369\u001b[39m \u001b[43m        \u001b[49m\u001b[43mbind_arguments\u001b[49m\u001b[43m=\u001b[49m\u001b[43mbind_arguments\u001b[49m\u001b[43m,\u001b[49m\n\u001b[32m   2370\u001b[39m \u001b[43m        \u001b[49m\u001b[43m_parent_execute_state\u001b[49m\u001b[43m=\u001b[49m\u001b[43m_parent_execute_state\u001b[49m\u001b[43m,\u001b[49m\n\u001b[32m   2371\u001b[39m \u001b[43m        \u001b[49m\u001b[43m_add_event\u001b[49m\u001b[43m=\u001b[49m\u001b[43m_add_event\u001b[49m\u001b[43m,\u001b[49m\n\u001b[32m   2372\u001b[39m \u001b[43m    \u001b[49m\u001b[43m)\u001b[49m\n",
      "\u001b[36mFile \u001b[39m\u001b[32m~/myprojects/books_store/server/.venv/lib/python3.13/site-packages/sqlalchemy/orm/session.py:2149\u001b[39m, in \u001b[36mSession._execute_internal\u001b[39m\u001b[34m(self, statement, params, execution_options, bind_arguments, _parent_execute_state, _add_event, _scalar_result)\u001b[39m\n\u001b[32m   2138\u001b[39m \u001b[38;5;28;01mdef\u001b[39;00m\u001b[38;5;250m \u001b[39m\u001b[34m_execute_internal\u001b[39m(\n\u001b[32m   2139\u001b[39m     \u001b[38;5;28mself\u001b[39m,\n\u001b[32m   2140\u001b[39m     statement: Executable,\n\u001b[32m   (...)\u001b[39m\u001b[32m   2147\u001b[39m     _scalar_result: \u001b[38;5;28mbool\u001b[39m = \u001b[38;5;28;01mFalse\u001b[39;00m,\n\u001b[32m   2148\u001b[39m ) -> Any:\n\u001b[32m-> \u001b[39m\u001b[32m2149\u001b[39m     statement = \u001b[43mcoercions\u001b[49m\u001b[43m.\u001b[49m\u001b[43mexpect\u001b[49m\u001b[43m(\u001b[49m\u001b[43mroles\u001b[49m\u001b[43m.\u001b[49m\u001b[43mStatementRole\u001b[49m\u001b[43m,\u001b[49m\u001b[43m \u001b[49m\u001b[43mstatement\u001b[49m\u001b[43m)\u001b[49m\n\u001b[32m   2151\u001b[39m     \u001b[38;5;28;01mif\u001b[39;00m \u001b[38;5;129;01mnot\u001b[39;00m bind_arguments:\n\u001b[32m   2152\u001b[39m         bind_arguments = {}\n",
      "\u001b[36mFile \u001b[39m\u001b[32m~/myprojects/books_store/server/.venv/lib/python3.13/site-packages/sqlalchemy/sql/coercions.py:395\u001b[39m, in \u001b[36mexpect\u001b[39m\u001b[34m(role, element, apply_propagate_attrs, argname, post_inspect, disable_inspection, **kw)\u001b[39m\n\u001b[32m    392\u001b[39m                 impl._raise_for_expected(original_element, argname)\n\u001b[32m    394\u001b[39m     \u001b[38;5;28;01mif\u001b[39;00m resolved \u001b[38;5;129;01mis\u001b[39;00m \u001b[38;5;28;01mNone\u001b[39;00m:\n\u001b[32m--> \u001b[39m\u001b[32m395\u001b[39m         resolved = \u001b[43mimpl\u001b[49m\u001b[43m.\u001b[49m\u001b[43m_literal_coercion\u001b[49m\u001b[43m(\u001b[49m\n\u001b[32m    396\u001b[39m \u001b[43m            \u001b[49m\u001b[43melement\u001b[49m\u001b[43m,\u001b[49m\u001b[43m \u001b[49m\u001b[43margname\u001b[49m\u001b[43m=\u001b[49m\u001b[43margname\u001b[49m\u001b[43m,\u001b[49m\u001b[43m \u001b[49m\u001b[43m*\u001b[49m\u001b[43m*\u001b[49m\u001b[43mkw\u001b[49m\n\u001b[32m    397\u001b[39m \u001b[43m        \u001b[49m\u001b[43m)\u001b[49m\n\u001b[32m    398\u001b[39m \u001b[38;5;28;01melse\u001b[39;00m:\n\u001b[32m    399\u001b[39m     resolved = element\n",
      "\u001b[36mFile \u001b[39m\u001b[32m~/myprojects/books_store/server/.venv/lib/python3.13/site-packages/sqlalchemy/sql/coercions.py:634\u001b[39m, in \u001b[36m_CoerceLiterals._literal_coercion\u001b[39m\u001b[34m(self, element, argname, **kw)\u001b[39m\n\u001b[32m    631\u001b[39m \u001b[38;5;28;01mif\u001b[39;00m \u001b[38;5;28mself\u001b[39m._coerce_numerics \u001b[38;5;129;01mand\u001b[39;00m \u001b[38;5;28misinstance\u001b[39m(element, (numbers.Number)):\n\u001b[32m    632\u001b[39m     \u001b[38;5;28;01mreturn\u001b[39;00m elements.ColumnClause(\u001b[38;5;28mstr\u001b[39m(element), is_literal=\u001b[38;5;28;01mTrue\u001b[39;00m)\n\u001b[32m--> \u001b[39m\u001b[32m634\u001b[39m \u001b[38;5;28;43mself\u001b[39;49m\u001b[43m.\u001b[49m\u001b[43m_raise_for_expected\u001b[49m\u001b[43m(\u001b[49m\u001b[43melement\u001b[49m\u001b[43m,\u001b[49m\u001b[43m \u001b[49m\u001b[43margname\u001b[49m\u001b[43m)\u001b[49m\n",
      "\u001b[36mFile \u001b[39m\u001b[32m~/myprojects/books_store/server/.venv/lib/python3.13/site-packages/sqlalchemy/sql/coercions.py:518\u001b[39m, in \u001b[36mRoleImpl._raise_for_expected\u001b[39m\u001b[34m(self, element, argname, resolved, advice, code, err, **kw)\u001b[39m\n\u001b[32m    515\u001b[39m \u001b[38;5;28;01mif\u001b[39;00m advice:\n\u001b[32m    516\u001b[39m     msg += \u001b[33m\"\u001b[39m\u001b[33m \u001b[39m\u001b[33m\"\u001b[39m + advice\n\u001b[32m--> \u001b[39m\u001b[32m518\u001b[39m \u001b[38;5;28;01mraise\u001b[39;00m exc.ArgumentError(msg, code=code) \u001b[38;5;28;01mfrom\u001b[39;00m\u001b[38;5;250m \u001b[39m\u001b[34;01merr\u001b[39;00m\n",
      "\u001b[31mArgumentError\u001b[39m: Executable SQL or text() construct expected, got ()."
     ]
    }
   ],
   "source": [
    "data_base = DataBase()\n",
    "await data_base.init_alchemy_engine()\n",
    "\n",
    "async with data_base.async_session() as session:\n",
    "    query = (\n",
    "        select(\n",
    "\n",
    "        )\n",
    "    )\n",
    "    \n",
    "    result = await session.execute(query)\n",
    "    row_items = result.scalars().all()\n",
    "    items_dto = [PurchaseDTO.model_validate(row, from_attributes=True) for row in row_items]\n",
    "    \n",
    "    logger.info(f\"Founded {len(items_dto)} results\")"
   ]
  }
 ],
 "metadata": {
  "kernelspec": {
   "display_name": "Python 3 (ipykernel)",
   "language": "python",
   "name": "python3"
  },
  "language_info": {
   "codemirror_mode": {
    "name": "ipython",
    "version": 3
   },
   "file_extension": ".py",
   "mimetype": "text/x-python",
   "name": "python",
   "nbconvert_exporter": "python",
   "pygments_lexer": "ipython3",
   "version": "3.13.5"
  }
 },
 "nbformat": 4,
 "nbformat_minor": 5
}
