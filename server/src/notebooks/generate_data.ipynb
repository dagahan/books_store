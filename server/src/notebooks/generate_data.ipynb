{
 "cells": [
  {
   "cell_type": "code",
   "execution_count": 1,
   "id": "056776da",
   "metadata": {},
   "outputs": [],
   "source": [
    "%load_ext autoreload\n",
    "%autoreload 2"
   ]
  },
  {
   "cell_type": "markdown",
   "id": "2a053ac0",
   "metadata": {},
   "source": [
    "Test notebook with selecting data, validation and display."
   ]
  },
  {
   "cell_type": "code",
   "execution_count": 17,
   "id": "ae032fba",
   "metadata": {},
   "outputs": [],
   "source": [
    "from src.services.db.database import DataBase\n",
    "from src.notebooks.example_data import *"
   ]
  },
  {
   "cell_type": "code",
   "execution_count": 18,
   "id": "8a78a5f0",
   "metadata": {},
   "outputs": [
    {
     "name": "stderr",
     "output_type": "stream",
     "text": [
      "\u001b[32m2025-08-06 02:02:11.669\u001b[0m | \u001b[1mINFO    \u001b[0m | \u001b[36msrc.services.db.database\u001b[0m:\u001b[36minit_alchemy_engine\u001b[0m:\u001b[36m31\u001b[0m - \u001b[1mStarting service..\u001b[0m\n",
      "\u001b[32m2025-08-06 02:02:11.688\u001b[0m | \u001b[1mINFO    \u001b[0m | \u001b[36msrc.services.db.database\u001b[0m:\u001b[36minit_alchemy_engine\u001b[0m:\u001b[36m50\u001b[0m - \u001b[1m\u001b[32mConnection with data base has been established!\u001b[0m\n",
      "\u001b[32m2025-08-06 02:02:11.799\u001b[0m | \u001b[1mINFO    \u001b[0m | \u001b[36msrc.notebooks.example_data\u001b[0m:\u001b[36mseed_data\u001b[0m:\u001b[36m132\u001b[0m - \u001b[1m1666 users created.\u001b[0m\n",
      "\u001b[32m2025-08-06 02:02:11.805\u001b[0m | \u001b[1mINFO    \u001b[0m | \u001b[36msrc.notebooks.example_data\u001b[0m:\u001b[36mseed_data\u001b[0m:\u001b[36m140\u001b[0m - \u001b[1m141 authors created.\u001b[0m\n",
      "\u001b[32m2025-08-06 02:02:11.809\u001b[0m | \u001b[1mINFO    \u001b[0m | \u001b[36msrc.notebooks.example_data\u001b[0m:\u001b[36mseed_data\u001b[0m:\u001b[36m151\u001b[0m - \u001b[1m53 sellers created.\u001b[0m\n",
      "\u001b[32m2025-08-06 02:02:11.816\u001b[0m | \u001b[1mINFO    \u001b[0m | \u001b[36msrc.notebooks.example_data\u001b[0m:\u001b[36mseed_data\u001b[0m:\u001b[36m162\u001b[0m - \u001b[1m140 warehouses created.\u001b[0m\n",
      "\u001b[32m2025-08-06 02:02:11.840\u001b[0m | \u001b[1mINFO    \u001b[0m | \u001b[36msrc.notebooks.example_data\u001b[0m:\u001b[36mseed_data\u001b[0m:\u001b[36m178\u001b[0m - \u001b[1m236 product types created.\u001b[0m\n",
      "\u001b[32m2025-08-06 02:02:13.041\u001b[0m | \u001b[1mINFO    \u001b[0m | \u001b[36msrc.notebooks.example_data\u001b[0m:\u001b[36mseed_data\u001b[0m:\u001b[36m190\u001b[0m - \u001b[1m17757 products created.\u001b[0m\n",
      "\u001b[32m2025-08-06 02:02:13.198\u001b[0m | \u001b[1mINFO    \u001b[0m | \u001b[36msrc.notebooks.example_data\u001b[0m:\u001b[36mseed_data\u001b[0m:\u001b[36m238\u001b[0m - \u001b[1m56 purchases created with items and deliveries.\u001b[0m\n"
     ]
    }
   ],
   "source": [
    "await data_base.init_alchemy_engine()\n",
    "\n",
    "await seed_data()"
   ]
  }
 ],
 "metadata": {
  "kernelspec": {
   "display_name": "Python 3 (ipykernel)",
   "language": "python",
   "name": "python3"
  },
  "language_info": {
   "codemirror_mode": {
    "name": "ipython",
    "version": 3
   },
   "file_extension": ".py",
   "mimetype": "text/x-python",
   "name": "python",
   "nbconvert_exporter": "python",
   "pygments_lexer": "ipython3",
   "version": "3.13.5"
  }
 },
 "nbformat": 4,
 "nbformat_minor": 5
}
